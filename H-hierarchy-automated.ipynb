{
 "cells": [
  {
   "cell_type": "code",
   "execution_count": 1,
   "id": "6ae3109d",
   "metadata": {
    "execution": {
     "iopub.execute_input": "2024-02-04T22:50:51.493",
     "iopub.status.busy": "2024-02-04T22:50:51.192",
     "iopub.status.idle": "2024-02-04T22:50:51.939",
     "shell.execute_reply": "2024-02-04T22:50:51.902"
    }
   },
   "outputs": [],
   "source": [
    "include(\"H-hierarchy.jl\");"
   ]
  },
  {
   "cell_type": "code",
   "execution_count": 2,
   "id": "c91abffb",
   "metadata": {
    "execution": {
     "iopub.execute_input": "2024-02-04T22:50:52.643",
     "iopub.status.busy": "2024-02-04T22:50:52.556",
     "iopub.status.idle": "2024-02-04T22:50:53.099",
     "shell.execute_reply": "2024-02-04T22:50:53.099"
    }
   },
   "outputs": [
    {
     "data": {
      "text/plain": [
       "\"/home/martin/.mosek/mosek.lic\""
      ]
     },
     "execution_count": 2,
     "metadata": {},
     "output_type": "execute_result"
    }
   ],
   "source": [
    "ENV[\"MOSEKLM_LICENSE_FILE\"] = \"/home/martin/.mosek/mosek.lic\""
   ]
  },
  {
   "cell_type": "code",
   "execution_count": 2,
   "id": "988a2a01",
   "metadata": {
    "execution": {
     "iopub.execute_input": "2024-02-04T22:50:53.762",
     "iopub.status.busy": "2024-02-04T22:50:53.762",
     "iopub.status.idle": "2024-02-04T22:50:53.763",
     "shell.execute_reply": "2024-02-04T22:50:53.763"
    }
   },
   "outputs": [],
   "source": [
    "n = 3;"
   ]
  },
  {
   "cell_type": "code",
   "execution_count": 3,
   "id": "d9611b37",
   "metadata": {
    "execution": {
     "iopub.execute_input": "2024-02-04T22:50:54.879",
     "iopub.status.busy": "2024-02-04T22:50:54.878",
     "iopub.status.idle": "2024-02-04T22:50:56.088",
     "shell.execute_reply": "2024-02-04T22:50:56.088"
    }
   },
   "outputs": [],
   "source": [
    "labels_43 = collect(multiset_combinations(1:10, n * ones(Int64, 10), n));\n",
    "labelDict_43 = Dict();\n",
    "for i in 1:length(labels_43)\n",
    "    labelDict_43[labels_43[i]] = i\n",
    "end\n",
    "sym_dim_43 = length(labelDict_43);\n",
    "sym_proj_43 = spzeros(sym_dim_43, 10^n);\n",
    "\n",
    "for perm in multiset_permutations(1:10, n * ones(Int64, 10), n)\n",
    "    sym_proj_43 += e(sym_dim_43, labelDict_43[sort(perm)]) * kron([e(10, perm[k]) for k in 1:n]...)'\n",
    "end\n",
    "\n",
    "labels_34 = collect(multiset_combinations(1:9, n * ones(Int64, 9), n));\n",
    "labelDict_34 = Dict();\n",
    "for i in 1:length(labels_34)\n",
    "    labelDict_34[labels_34[i]] = i\n",
    "end\n",
    "sym_dim_34 = length(labelDict_34);\n",
    "sym_proj_34 = spzeros(sym_dim_34, 9^n);\n",
    "\n",
    "for perm in multiset_permutations(1:9, n * ones(Int64, 9), n)\n",
    "    sym_proj_34 += e(sym_dim_34, labelDict_34[sort(perm)]) * kron([e(9, perm[k]) for k in 1:n]...)'\n",
    "end\n",
    "sym_proj = kron(sym_proj_43, sym_proj_34);\n",
    "sym_proj_shuffle = sym_proj * get_shuffle(n);"
   ]
  },
  {
   "cell_type": "code",
   "execution_count": 8,
   "id": "b521b1bb",
   "metadata": {
    "execution": {
     "iopub.execute_input": "2024-02-04T22:51:01.804",
     "iopub.status.busy": "2024-02-04T22:51:01.804",
     "iopub.status.idle": "2024-02-04T22:52:46.624",
     "shell.execute_reply": "2024-02-04T22:52:46.624"
    }
   },
   "outputs": [
    {
     "name": "stderr",
     "output_type": "stream",
     "text": [
      "\u001b[33m\u001b[1m┌ \u001b[22m\u001b[39m\u001b[33m\u001b[1mWarning: \u001b[22m\u001b[39m`product(xss...)` is deprecated, use `Iterators.product(xss...)` instead.\n",
      "\u001b[33m\u001b[1m│ \u001b[22m\u001b[39m  caller = sym_kron(::Array{SparseVector{Int64,Int64},1}, ::Int64, ::Dict{Any,Any}) at H-hierarchy.jl:16\n",
      "\u001b[33m\u001b[1m└ \u001b[22m\u001b[39m\u001b[90m@ Main ~/cones/H-hierarchy.jl:16\u001b[39m\n"
     ]
    },
    {
     "name": "stdout",
     "output_type": "stream",
     "text": [
      "Adding variables...\n",
      "Adding positivity constraints...\n",
      "Adding F constraints...\n",
      "Optimizing...\n",
      "\n",
      "Problem\n",
      "  Name                   :                 \n",
      "  Objective sense        : minimize        \n",
      "  Type                   : LO (linear optimization problem)\n",
      "  Constraints            : 141024          \n",
      "  Affine conic cons.     : 0               \n",
      "  Disjunctive cons.      : 0               \n",
      "  Cones                  : 0               \n",
      "  Scalar variables       : 729000          \n",
      "  Matrix variables       : 0               \n",
      "  Integer variables      : 0               \n",
      "\n",
      "Optimizer started.\n",
      "Presolve started.\n",
      "Linear dependency checker started.\n",
      "Linear dependency checker terminated.\n",
      "Eliminator started.\n",
      "Freed constraints in eliminator : 0\n",
      "Eliminator terminated.\n",
      "Eliminator - tries                  : 1                 time                   : 0.00            \n",
      "Lin. dep.  - tries                  : 1                 time                   : 0.06            \n",
      "Lin. dep.  - primal attempts        : 1                 successes              : 1               \n",
      "Lin. dep.  - dual attempts          : 0                 successes              : 0               \n",
      "Lin. dep.  - primal deps.           : 775               dual deps.             : 0               \n",
      "Presolve terminated. Time: 0.86    \n",
      "GP based matrix reordering started.\n",
      "GP based matrix reordering terminated.\n",
      "Optimizer  - threads                : 1               \n",
      "Optimizer  - solved problem         : the dual        \n",
      "Optimizer  - Constraints            : 36299           \n",
      "Optimizer  - Cones                  : 0               \n",
      "Optimizer  - Scalar variables       : 227344            conic                  : 0               \n",
      "Optimizer  - Semi-definite variables: 0                 scalarized             : 0               \n",
      "Factor     - setup time             : 13.46           \n",
      "Factor     - dense det. time        : 5.84              GP order time          : 0.66            \n",
      "Factor     - nonzeros before factor : 3.49e+07          after factor           : 8.07e+07        \n",
      "Factor     - dense dim.             : 337               flops                  : 3.56e+11        \n",
      "ITE PFEAS    DFEAS    GFEAS    PRSTATUS   POBJ              DOBJ              MU       TIME  \n",
      "0   1.2e+05  4.5e+00  1.9e+04  0.00e+00   -0.000000000e+00  -1.905221879e+04  1.0e+02  23.79 \n",
      "1   1.2e+05  4.5e+00  1.9e+04  3.29e+02   -0.000000000e+00  -1.201633117e+02  1.0e+02  32.73 \n",
      "2   1.0e+05  3.8e+00  1.6e+04  4.30e+00   -0.000000000e+00  -5.730019746e+01  8.8e+01  41.91 \n",
      "3   7.6e+04  2.8e+00  1.2e+04  3.24e+00   -0.000000000e+00  -2.626546029e+01  6.4e+01  51.16 \n",
      "4   6.2e+04  2.3e+00  9.5e+03  2.34e+00   -0.000000000e+00  -1.734819194e+01  5.2e+01  60.30 \n",
      "5   4.5e+04  1.6e+00  6.9e+03  2.01e+00   -0.000000000e+00  -9.533380863e+00  3.8e+01  69.29 \n",
      "6   1.8e+04  6.6e-01  2.8e+03  1.67e+00   -0.000000000e+00  -9.595313111e+00  1.5e+01  78.16 \n",
      "7   7.7e+03  2.8e-01  1.2e+03  1.35e+00   -0.000000000e+00  -3.813773613e+00  6.6e+00  87.22 \n",
      "8   4.9e+03  1.8e-01  7.6e+02  1.16e+00   -0.000000000e+00  -2.410068106e+00  4.2e+00  96.17 \n",
      "9   3.6e+03  1.3e-01  5.6e+02  1.12e+00   -0.000000000e+00  -1.744657275e+00  3.1e+00  105.04\n",
      "10  3.1e+03  1.1e-01  4.7e+02  1.13e+00   -0.000000000e+00  -1.477531571e+00  2.6e+00  114.27\n",
      "11  1.6e+03  6.0e-02  2.6e+02  1.11e+00   -0.000000000e+00  -7.883106536e-01  1.4e+00  123.20\n",
      "12  9.9e+02  3.6e-02  1.5e+02  1.10e+00   -0.000000000e+00  -4.716153252e-01  8.4e-01  132.20\n",
      "13  2.6e+02  9.6e-03  4.1e+01  1.07e+00   -0.000000000e+00  -1.235024735e-01  2.2e-01  141.37\n",
      "14  1.1e+02  4.2e-03  1.8e+01  1.07e+00   -0.000000000e+00  -5.431684542e-02  9.7e-02  150.41\n",
      "15  6.0e+01  2.2e-03  9.3e+00  8.90e-01   -0.000000000e+00  -3.196143139e-02  5.1e-02  159.34\n",
      "16  5.9e+01  2.2e-03  9.2e+00  5.26e-01   -0.000000000e+00  -3.159953215e-02  5.0e-02  168.27\n",
      "17  3.1e+01  1.2e-03  4.9e+00  3.75e-01   -0.000000000e+00  -2.241918875e-02  2.7e-02  177.32\n",
      "18  2.5e+01  9.2e-04  3.9e+00  -3.02e-01  -0.000000000e+00  -2.076734245e-02  2.1e-02  186.32\n",
      "19  2.4e+01  8.6e-04  3.7e+00  -4.36e-01  -0.000000000e+00  -2.025267979e-02  2.0e-02  195.34\n",
      "20  1.3e+00  4.8e-05  2.1e-01  -4.89e-01  -0.000000000e+00  1.888048917e-01   1.1e-03  205.10\n",
      "21  7.8e-04  7.7e-07  2.3e-02  -9.63e-01  -0.000000000e+00  2.971001774e+02   6.6e-07  214.83\n",
      "22  1.3e-07  1.4e-06  2.7e-02  -1.00e+00  -0.000000000e+00  1.846064187e+06   1.1e-10  224.80\n",
      "23  1.3e-07  1.4e-06  2.7e-02  -1.01e+00  -0.000000000e+00  1.846064187e+06   1.1e-10  234.60\n",
      "24  2.5e-09  2.9e-08  5.4e-04  -1.00e+00  -0.000000000e+00  8.302733569e+07   2.2e-12  245.01\n",
      "25  2.5e-12  2.8e-11  5.1e-07  -1.00e+00  -0.000000000e+00  8.629882913e+10   2.1e-15  255.87\n",
      "Optimizer terminated. Time: 256.07  \n",
      "\n",
      "Done.\n",
      "\n",
      "Mosek.MSK_PRO_STA_PRIM_INFEAS\n",
      "Mosek.MSK_SOL_STA_PRIM_INFEAS_CER\n"
     ]
    },
    {
     "ename": "UndefVarError",
     "evalue": "\u001b[91mUndefVarError: deletetask not defined\u001b[39m",
     "output_type": "error",
     "traceback": [
      "\u001b[91mUndefVarError: deletetask not defined\u001b[39m",
      "",
      "Stacktrace:",
      " [1] run_LP(::Int64, ::Array{SparseVector{Int64,Int64},1}, ::Array{SparseVector{Float64,Int64},1}) at /home/laurens/cones/H-hierarchy.jl:231",
      " [2] top-level scope at In[8]:3"
     ]
    }
   ],
   "source": [
    "a = 0.9;\n",
    "b = a;\n",
    "x = run_LP(n, get_pos_cons(n, labelDict_43, sym_dim_43, labelDict_34, sym_dim_34), get_F_cons(n, get_M(a,b), sym_proj_shuffle))\n",
    "println(x)"
   ]
  },
  {
   "cell_type": "code",
   "execution_count": 4,
   "id": "81826e37",
   "metadata": {},
   "outputs": [
    {
     "name": "stderr",
     "output_type": "stream",
     "text": [
      "\u001b[33m\u001b[1m┌ \u001b[22m\u001b[39m\u001b[33m\u001b[1mWarning: \u001b[22m\u001b[39m`product(xss...)` is deprecated, use `Iterators.product(xss...)` instead.\n",
      "\u001b[33m\u001b[1m│ \u001b[22m\u001b[39m  caller = sym_kron(::Array{SparseVector{Int64,Int64},1}, ::Int64, ::Dict{Any,Any}) at H-hierarchy.jl:16\n",
      "\u001b[33m\u001b[1m└ \u001b[22m\u001b[39m\u001b[90m@ Main ~/cones/H-hierarchy.jl:16\u001b[39m\n"
     ]
    },
    {
     "name": "stdout",
     "output_type": "stream",
     "text": [
      "Bisection done\n",
      "a is between 1.0 and 1.0\n",
      "b is between 0.6171875 and 0.625\n",
      "alpha values: [0]\n"
     ]
    }
   ],
   "source": [
    "points = 10\n",
    "alphaList = [i * pi/(4*points) for i in 1:points]\n",
    "posConstr = get_pos_cons(3, labelDict_43, sym_dim_43, labelDict_34, sym_dim_34)\n",
    "abList = []\n",
    "for alpha in alphaList    \n",
    "    r0, r1 = bisection(alpha, 0, 1, 0.01, 10, posConstr)\n",
    "    println(\"Bisection done\")\n",
    "    amin = 1-r1*sin(alpha)\n",
    "    amax = 1-r0*sin(alpha)\n",
    "    bmin = 1-r1*cos(alpha)\n",
    "    bmax = 1-r0*cos(alpha)\n",
    "    println(\"a is between \", amin, \" and \", amax)\n",
    "    println(\"b is between \", bmin, \" and \", bmax)\n",
    "    append!(abList, [[amin, amax, bmin, bmax]])\n",
    "end\n",
    "io = open(\"solutions.txt\", \"a\")\n",
    "println(\"alpha values: \", alphaList)\n",
    "for ab in abList\n",
    "    println(io, ab)\n",
    "end\n",
    "close(io)"
   ]
  },
  {
   "cell_type": "code",
   "execution_count": null,
   "id": "2e1eb2f4",
   "metadata": {},
   "outputs": [],
   "source": [
    "GC.gc()"
   ]
  }
 ],
 "metadata": {
  "kernelspec": {
   "display_name": "Julia 1.9.3",
   "language": "julia",
   "name": "julia-1.9"
  },
  "language_info": {
   "file_extension": ".jl",
   "mimetype": "application/julia",
   "name": "julia",
   "version": "1.9.3"
  }
 },
 "nbformat": 4,
 "nbformat_minor": 5
}
