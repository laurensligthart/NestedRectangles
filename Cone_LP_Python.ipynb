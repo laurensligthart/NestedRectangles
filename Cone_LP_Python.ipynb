{
 "cells": [
  {
   "cell_type": "code",
   "execution_count": null,
   "id": "591b6eb4",
   "metadata": {},
   "outputs": [],
   "source": [
    "from NestedRectangle import *\n",
    "from contextlib import redirect_stdout"
   ]
  },
  {
   "cell_type": "code",
   "execution_count": null,
   "id": "05954fb0",
   "metadata": {},
   "outputs": [],
   "source": [
    "r = 3\n",
    "k = 3\n",
    "\n",
    "problemDims = CreateCanonicalVars(k)\n",
    "print(\"%s symmetric variables generated\"%problemDims[2])\n",
    "\n",
    "# generate left-stochastic constraints\n",
    "stocConstr = NewStochasticConstraints(problemDims[0], problemDims[1], r, k)\n",
    "print(\"%s Stochastic constraints generated\"%len(stocConstr[0]))"
   ]
  },
  {
   "cell_type": "code",
   "execution_count": null,
   "id": "93475913",
   "metadata": {
    "scrolled": true
   },
   "outputs": [],
   "source": [
    "#number of angles to do a bisection for\n",
    "points = 10\n",
    "alphaList = [i * np.pi/(4*points) for i in range(1,points + 1)]\n",
    "abList = []\n",
    "for alpha in alphaList:\n",
    "    print(\"\\n\")\n",
    "    print(\"alpha is\", alpha)\n",
    "    \n",
    "    #write output to a file\n",
    "    with open('py_out_file_2.txt', 'a') as f:\n",
    "        with redirect_stdout(f):\n",
    "            r0, r1 = Bisection(alpha, 0, 1, 0.01, 10, problemDims, stocConstr, k) #This takes a while!\n",
    "    print(\"Bisection done\")\n",
    "    \n",
    "    amin = 1-r1*np.sin(alpha)\n",
    "    amax = 1-r0*np.sin(alpha)\n",
    "    bmin = 1-r1*np.cos(alpha)\n",
    "    bmax = 1-r0*np.cos(alpha)\n",
    "    print(\"a is between\", amin, \"and\", amax)\n",
    "    print(\"b is between\", bmin, \"and\", bmax)\n",
    "    abList.append([amin, amax, bmin, bmax])\n",
    "\n",
    "io = open(\"py_solutions.txt\", \"a\")\n",
    "print(\"alpha values: \", alphaList)\n",
    "for ab in abList:\n",
    "    io.write(\"%s \\n\"%str(ab))\n",
    "io.close()"
   ]
  },
  {
   "cell_type": "code",
   "execution_count": null,
   "id": "d64f60d0",
   "metadata": {},
   "outputs": [],
   "source": []
  },
  {
   "cell_type": "code",
   "execution_count": null,
   "id": "162190c4",
   "metadata": {},
   "outputs": [],
   "source": []
  }
 ],
 "metadata": {
  "kernelspec": {
   "display_name": "Python 3 (ipykernel)",
   "language": "python",
   "name": "python3"
  },
  "language_info": {
   "codemirror_mode": {
    "name": "ipython",
    "version": 3
   },
   "file_extension": ".py",
   "mimetype": "text/x-python",
   "name": "python",
   "nbconvert_exporter": "python",
   "pygments_lexer": "ipython3",
   "version": "3.9.13"
  }
 },
 "nbformat": 4,
 "nbformat_minor": 5
}
